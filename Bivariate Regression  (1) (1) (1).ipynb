{
 "cells": [
  {
   "cell_type": "markdown",
   "metadata": {},
   "source": [
    "# Bivariate Regression performance on California Population Dataset\n",
    "<em> By :- Shivani Balyan  </em> "
   ]
  },
  {
   "cell_type": "markdown",
   "metadata": {},
   "source": [
    "##### We have the California.csv data set, which consists of some census information for 858 towns and cities in California. Our task will be to investigate handling of outliers and high leverage points as and transform both the predictor and the response. We are also interested in approximating the relationship, if any, between the percentage of townspeople who are senior citizens and the total population of the town. ###"
   ]
  },
  {
   "cell_type": "code",
   "execution_count": 1,
   "metadata": {},
   "outputs": [],
   "source": [
    "import pandas as pd\n",
    "import numpy as np\n",
    "import matplotlib.pyplot as plt"
   ]
  },
  {
   "cell_type": "markdown",
   "metadata": {},
   "source": [
    "# read data from the csv file"
   ]
  },
  {
   "cell_type": "code",
   "execution_count": 2,
   "metadata": {},
   "outputs": [],
   "source": [
    "df = pd.read_csv(\"California.csv\")"
   ]
  },
  {
   "cell_type": "markdown",
   "metadata": {},
   "source": [
    "#### Information about data"
   ]
  },
  {
   "cell_type": "code",
   "execution_count": 24,
   "metadata": {},
   "outputs": [
    {
     "name": "stdout",
     "output_type": "stream",
     "text": [
      "<class 'pandas.core.frame.DataFrame'>\n",
      "RangeIndex: 848 entries, 0 to 847\n",
      "Data columns (total 6 columns):\n",
      " #   Column             Non-Null Count  Dtype  \n",
      "---  ------             --------------  -----  \n",
      " 0   place              848 non-null    object \n",
      " 1   population         848 non-null    int32  \n",
      " 2   pct_under_18       848 non-null    float64\n",
      " 3   pct_between_18_64  848 non-null    float64\n",
      " 4   pct_over_64        848 non-null    float64\n",
      " 5   male_female_ratio  848 non-null    float64\n",
      "dtypes: float64(4), int32(1), object(1)\n",
      "memory usage: 36.6+ KB\n"
     ]
    }
   ],
   "source": [
    "df.info()"
   ]
  },
  {
   "cell_type": "markdown",
   "metadata": {},
   "source": [
    "Now, Return the first n rows for the object based on position."
   ]
  },
  {
   "cell_type": "code",
   "execution_count": 3,
   "metadata": {},
   "outputs": [
    {
     "data": {
      "text/html": [
       "<div>\n",
       "<style scoped>\n",
       "    .dataframe tbody tr th:only-of-type {\n",
       "        vertical-align: middle;\n",
       "    }\n",
       "\n",
       "    .dataframe tbody tr th {\n",
       "        vertical-align: top;\n",
       "    }\n",
       "\n",
       "    .dataframe thead th {\n",
       "        text-align: right;\n",
       "    }\n",
       "</style>\n",
       "<table border=\"1\" class=\"dataframe\">\n",
       "  <thead>\n",
       "    <tr style=\"text-align: right;\">\n",
       "      <th></th>\n",
       "      <th>place</th>\n",
       "      <th>population</th>\n",
       "      <th>pct_under_18</th>\n",
       "      <th>pct_between_18_64</th>\n",
       "      <th>pct_over_64</th>\n",
       "      <th>male_female_ratio</th>\n",
       "    </tr>\n",
       "  </thead>\n",
       "  <tbody>\n",
       "    <tr>\n",
       "      <th>0</th>\n",
       "      <td>Los Angeles city</td>\n",
       "      <td>3485398</td>\n",
       "      <td>24.8</td>\n",
       "      <td>65.3</td>\n",
       "      <td>10.0</td>\n",
       "      <td>99.6</td>\n",
       "    </tr>\n",
       "    <tr>\n",
       "      <th>1</th>\n",
       "      <td>San Diego city</td>\n",
       "      <td>1110549</td>\n",
       "      <td>23.1</td>\n",
       "      <td>66.7</td>\n",
       "      <td>10.2</td>\n",
       "      <td>103.7</td>\n",
       "    </tr>\n",
       "    <tr>\n",
       "      <th>2</th>\n",
       "      <td>San Jose city</td>\n",
       "      <td>782248</td>\n",
       "      <td>26.7</td>\n",
       "      <td>66.1</td>\n",
       "      <td>7.2</td>\n",
       "      <td>102.8</td>\n",
       "    </tr>\n",
       "    <tr>\n",
       "      <th>3</th>\n",
       "      <td>San Francisco city</td>\n",
       "      <td>723959</td>\n",
       "      <td>16.1</td>\n",
       "      <td>69.3</td>\n",
       "      <td>14.6</td>\n",
       "      <td>99.4</td>\n",
       "    </tr>\n",
       "    <tr>\n",
       "      <th>4</th>\n",
       "      <td>Long Beach city</td>\n",
       "      <td>429433</td>\n",
       "      <td>25.5</td>\n",
       "      <td>63.7</td>\n",
       "      <td>10.8</td>\n",
       "      <td>101.0</td>\n",
       "    </tr>\n",
       "  </tbody>\n",
       "</table>\n",
       "</div>"
      ],
      "text/plain": [
       "                place  population  pct_under_18  pct_between_18_64  \\\n",
       "0    Los Angeles city     3485398          24.8               65.3   \n",
       "1      San Diego city     1110549          23.1               66.7   \n",
       "2       San Jose city      782248          26.7               66.1   \n",
       "3  San Francisco city      723959          16.1               69.3   \n",
       "4     Long Beach city      429433          25.5               63.7   \n",
       "\n",
       "   pct_over_64  male_female_ratio  \n",
       "0         10.0               99.6  \n",
       "1         10.2              103.7  \n",
       "2          7.2              102.8  \n",
       "3         14.6               99.4  \n",
       "4         10.8              101.0  "
      ]
     },
     "execution_count": 3,
     "metadata": {},
     "output_type": "execute_result"
    }
   ],
   "source": [
    "df.head()"
   ]
  },
  {
   "cell_type": "markdown",
   "metadata": {},
   "source": [
    "tail, return the last n rows ."
   ]
  },
  {
   "cell_type": "code",
   "execution_count": 4,
   "metadata": {},
   "outputs": [
    {
     "data": {
      "text/html": [
       "<div>\n",
       "<style scoped>\n",
       "    .dataframe tbody tr th:only-of-type {\n",
       "        vertical-align: middle;\n",
       "    }\n",
       "\n",
       "    .dataframe tbody tr th {\n",
       "        vertical-align: top;\n",
       "    }\n",
       "\n",
       "    .dataframe thead th {\n",
       "        text-align: right;\n",
       "    }\n",
       "</style>\n",
       "<table border=\"1\" class=\"dataframe\">\n",
       "  <thead>\n",
       "    <tr style=\"text-align: right;\">\n",
       "      <th></th>\n",
       "      <th>place</th>\n",
       "      <th>population</th>\n",
       "      <th>pct_under_18</th>\n",
       "      <th>pct_between_18_64</th>\n",
       "      <th>pct_over_64</th>\n",
       "      <th>male_female_ratio</th>\n",
       "    </tr>\n",
       "  </thead>\n",
       "  <tbody>\n",
       "    <tr>\n",
       "      <th>843</th>\n",
       "      <td>South Lake CDP</td>\n",
       "      <td>1059</td>\n",
       "      <td>15.3</td>\n",
       "      <td>44.8</td>\n",
       "      <td>39.9</td>\n",
       "      <td>90.9</td>\n",
       "    </tr>\n",
       "    <tr>\n",
       "      <th>844</th>\n",
       "      <td>Monte Rio CDP</td>\n",
       "      <td>1058</td>\n",
       "      <td>22.7</td>\n",
       "      <td>65.2</td>\n",
       "      <td>12.1</td>\n",
       "      <td>111.4</td>\n",
       "    </tr>\n",
       "    <tr>\n",
       "      <th>845</th>\n",
       "      <td>Covelo CDP</td>\n",
       "      <td>1057</td>\n",
       "      <td>30.3</td>\n",
       "      <td>54.7</td>\n",
       "      <td>15.0</td>\n",
       "      <td>89.9</td>\n",
       "    </tr>\n",
       "    <tr>\n",
       "      <th>846</th>\n",
       "      <td>Irwindale city</td>\n",
       "      <td>1050</td>\n",
       "      <td>34.5</td>\n",
       "      <td>57.8</td>\n",
       "      <td>7.7</td>\n",
       "      <td>93.8</td>\n",
       "    </tr>\n",
       "    <tr>\n",
       "      <th>847</th>\n",
       "      <td>Tulelake city</td>\n",
       "      <td>1010</td>\n",
       "      <td>33.4</td>\n",
       "      <td>51.6</td>\n",
       "      <td>15.0</td>\n",
       "      <td>92.3</td>\n",
       "    </tr>\n",
       "  </tbody>\n",
       "</table>\n",
       "</div>"
      ],
      "text/plain": [
       "              place  population  pct_under_18  pct_between_18_64  pct_over_64  \\\n",
       "843  South Lake CDP        1059          15.3               44.8         39.9   \n",
       "844   Monte Rio CDP        1058          22.7               65.2         12.1   \n",
       "845      Covelo CDP        1057          30.3               54.7         15.0   \n",
       "846  Irwindale city        1050          34.5               57.8          7.7   \n",
       "847   Tulelake city        1010          33.4               51.6         15.0   \n",
       "\n",
       "     male_female_ratio  \n",
       "843               90.9  \n",
       "844              111.4  \n",
       "845               89.9  \n",
       "846               93.8  \n",
       "847               92.3  "
      ]
     },
     "execution_count": 4,
     "metadata": {},
     "output_type": "execute_result"
    }
   ],
   "source": [
    "df.tail()"
   ]
  },
  {
   "cell_type": "markdown",
   "metadata": {},
   "source": [
    "### Let's have a lookup to our data elements"
   ]
  },
  {
   "cell_type": "code",
   "execution_count": 5,
   "metadata": {},
   "outputs": [
    {
     "data": {
      "text/html": [
       "<div>\n",
       "<style scoped>\n",
       "    .dataframe tbody tr th:only-of-type {\n",
       "        vertical-align: middle;\n",
       "    }\n",
       "\n",
       "    .dataframe tbody tr th {\n",
       "        vertical-align: top;\n",
       "    }\n",
       "\n",
       "    .dataframe thead th {\n",
       "        text-align: right;\n",
       "    }\n",
       "</style>\n",
       "<table border=\"1\" class=\"dataframe\">\n",
       "  <thead>\n",
       "    <tr style=\"text-align: right;\">\n",
       "      <th></th>\n",
       "      <th>population</th>\n",
       "      <th>pct_under_18</th>\n",
       "      <th>pct_between_18_64</th>\n",
       "      <th>pct_over_64</th>\n",
       "      <th>male_female_ratio</th>\n",
       "    </tr>\n",
       "  </thead>\n",
       "  <tbody>\n",
       "    <tr>\n",
       "      <th>count</th>\n",
       "      <td>8.480000e+02</td>\n",
       "      <td>848.00000</td>\n",
       "      <td>848.000000</td>\n",
       "      <td>848.000000</td>\n",
       "      <td>848.000000</td>\n",
       "    </tr>\n",
       "    <tr>\n",
       "      <th>mean</th>\n",
       "      <td>3.164433e+04</td>\n",
       "      <td>26.93691</td>\n",
       "      <td>60.683726</td>\n",
       "      <td>12.381132</td>\n",
       "      <td>97.929009</td>\n",
       "    </tr>\n",
       "    <tr>\n",
       "      <th>std</th>\n",
       "      <td>1.360409e+05</td>\n",
       "      <td>6.58183</td>\n",
       "      <td>6.400300</td>\n",
       "      <td>7.351481</td>\n",
       "      <td>22.481929</td>\n",
       "    </tr>\n",
       "    <tr>\n",
       "      <th>min</th>\n",
       "      <td>1.010000e+03</td>\n",
       "      <td>0.20000</td>\n",
       "      <td>32.800000</td>\n",
       "      <td>1.700000</td>\n",
       "      <td>70.800000</td>\n",
       "    </tr>\n",
       "    <tr>\n",
       "      <th>25%</th>\n",
       "      <td>3.224500e+03</td>\n",
       "      <td>22.97500</td>\n",
       "      <td>56.700000</td>\n",
       "      <td>7.700000</td>\n",
       "      <td>90.600000</td>\n",
       "    </tr>\n",
       "    <tr>\n",
       "      <th>50%</th>\n",
       "      <td>8.346500e+03</td>\n",
       "      <td>27.00000</td>\n",
       "      <td>60.500000</td>\n",
       "      <td>11.000000</td>\n",
       "      <td>95.500000</td>\n",
       "    </tr>\n",
       "    <tr>\n",
       "      <th>75%</th>\n",
       "      <td>2.935150e+04</td>\n",
       "      <td>31.40000</td>\n",
       "      <td>64.700000</td>\n",
       "      <td>14.600000</td>\n",
       "      <td>100.400000</td>\n",
       "    </tr>\n",
       "    <tr>\n",
       "      <th>max</th>\n",
       "      <td>3.485398e+06</td>\n",
       "      <td>43.30000</td>\n",
       "      <td>91.500000</td>\n",
       "      <td>62.900000</td>\n",
       "      <td>593.400000</td>\n",
       "    </tr>\n",
       "  </tbody>\n",
       "</table>\n",
       "</div>"
      ],
      "text/plain": [
       "         population  pct_under_18  pct_between_18_64  pct_over_64  \\\n",
       "count  8.480000e+02     848.00000         848.000000   848.000000   \n",
       "mean   3.164433e+04      26.93691          60.683726    12.381132   \n",
       "std    1.360409e+05       6.58183           6.400300     7.351481   \n",
       "min    1.010000e+03       0.20000          32.800000     1.700000   \n",
       "25%    3.224500e+03      22.97500          56.700000     7.700000   \n",
       "50%    8.346500e+03      27.00000          60.500000    11.000000   \n",
       "75%    2.935150e+04      31.40000          64.700000    14.600000   \n",
       "max    3.485398e+06      43.30000          91.500000    62.900000   \n",
       "\n",
       "       male_female_ratio  \n",
       "count         848.000000  \n",
       "mean           97.929009  \n",
       "std            22.481929  \n",
       "min            70.800000  \n",
       "25%            90.600000  \n",
       "50%            95.500000  \n",
       "75%           100.400000  \n",
       "max           593.400000  "
      ]
     },
     "execution_count": 5,
     "metadata": {},
     "output_type": "execute_result"
    }
   ],
   "source": [
    "df.describe()"
   ]
  },
  {
   "cell_type": "markdown",
   "metadata": {},
   "source": [
    "### Let's see null values"
   ]
  },
  {
   "cell_type": "code",
   "execution_count": 25,
   "metadata": {},
   "outputs": [
    {
     "data": {
      "text/html": [
       "<div>\n",
       "<style scoped>\n",
       "    .dataframe tbody tr th:only-of-type {\n",
       "        vertical-align: middle;\n",
       "    }\n",
       "\n",
       "    .dataframe tbody tr th {\n",
       "        vertical-align: top;\n",
       "    }\n",
       "\n",
       "    .dataframe thead th {\n",
       "        text-align: right;\n",
       "    }\n",
       "</style>\n",
       "<table border=\"1\" class=\"dataframe\">\n",
       "  <thead>\n",
       "    <tr style=\"text-align: right;\">\n",
       "      <th></th>\n",
       "      <th>place</th>\n",
       "      <th>population</th>\n",
       "      <th>pct_under_18</th>\n",
       "      <th>pct_between_18_64</th>\n",
       "      <th>pct_over_64</th>\n",
       "      <th>male_female_ratio</th>\n",
       "    </tr>\n",
       "  </thead>\n",
       "  <tbody>\n",
       "    <tr>\n",
       "      <th>0</th>\n",
       "      <td>False</td>\n",
       "      <td>False</td>\n",
       "      <td>False</td>\n",
       "      <td>False</td>\n",
       "      <td>False</td>\n",
       "      <td>False</td>\n",
       "    </tr>\n",
       "    <tr>\n",
       "      <th>1</th>\n",
       "      <td>False</td>\n",
       "      <td>False</td>\n",
       "      <td>False</td>\n",
       "      <td>False</td>\n",
       "      <td>False</td>\n",
       "      <td>False</td>\n",
       "    </tr>\n",
       "    <tr>\n",
       "      <th>2</th>\n",
       "      <td>False</td>\n",
       "      <td>False</td>\n",
       "      <td>False</td>\n",
       "      <td>False</td>\n",
       "      <td>False</td>\n",
       "      <td>False</td>\n",
       "    </tr>\n",
       "    <tr>\n",
       "      <th>3</th>\n",
       "      <td>False</td>\n",
       "      <td>False</td>\n",
       "      <td>False</td>\n",
       "      <td>False</td>\n",
       "      <td>False</td>\n",
       "      <td>False</td>\n",
       "    </tr>\n",
       "    <tr>\n",
       "      <th>4</th>\n",
       "      <td>False</td>\n",
       "      <td>False</td>\n",
       "      <td>False</td>\n",
       "      <td>False</td>\n",
       "      <td>False</td>\n",
       "      <td>False</td>\n",
       "    </tr>\n",
       "    <tr>\n",
       "      <th>...</th>\n",
       "      <td>...</td>\n",
       "      <td>...</td>\n",
       "      <td>...</td>\n",
       "      <td>...</td>\n",
       "      <td>...</td>\n",
       "      <td>...</td>\n",
       "    </tr>\n",
       "    <tr>\n",
       "      <th>843</th>\n",
       "      <td>False</td>\n",
       "      <td>False</td>\n",
       "      <td>False</td>\n",
       "      <td>False</td>\n",
       "      <td>False</td>\n",
       "      <td>False</td>\n",
       "    </tr>\n",
       "    <tr>\n",
       "      <th>844</th>\n",
       "      <td>False</td>\n",
       "      <td>False</td>\n",
       "      <td>False</td>\n",
       "      <td>False</td>\n",
       "      <td>False</td>\n",
       "      <td>False</td>\n",
       "    </tr>\n",
       "    <tr>\n",
       "      <th>845</th>\n",
       "      <td>False</td>\n",
       "      <td>False</td>\n",
       "      <td>False</td>\n",
       "      <td>False</td>\n",
       "      <td>False</td>\n",
       "      <td>False</td>\n",
       "    </tr>\n",
       "    <tr>\n",
       "      <th>846</th>\n",
       "      <td>False</td>\n",
       "      <td>False</td>\n",
       "      <td>False</td>\n",
       "      <td>False</td>\n",
       "      <td>False</td>\n",
       "      <td>False</td>\n",
       "    </tr>\n",
       "    <tr>\n",
       "      <th>847</th>\n",
       "      <td>False</td>\n",
       "      <td>False</td>\n",
       "      <td>False</td>\n",
       "      <td>False</td>\n",
       "      <td>False</td>\n",
       "      <td>False</td>\n",
       "    </tr>\n",
       "  </tbody>\n",
       "</table>\n",
       "<p>848 rows × 6 columns</p>\n",
       "</div>"
      ],
      "text/plain": [
       "     place  population  pct_under_18  pct_between_18_64  pct_over_64  \\\n",
       "0    False       False         False              False        False   \n",
       "1    False       False         False              False        False   \n",
       "2    False       False         False              False        False   \n",
       "3    False       False         False              False        False   \n",
       "4    False       False         False              False        False   \n",
       "..     ...         ...           ...                ...          ...   \n",
       "843  False       False         False              False        False   \n",
       "844  False       False         False              False        False   \n",
       "845  False       False         False              False        False   \n",
       "846  False       False         False              False        False   \n",
       "847  False       False         False              False        False   \n",
       "\n",
       "     male_female_ratio  \n",
       "0                False  \n",
       "1                False  \n",
       "2                False  \n",
       "3                False  \n",
       "4                False  \n",
       "..                 ...  \n",
       "843              False  \n",
       "844              False  \n",
       "845              False  \n",
       "846              False  \n",
       "847              False  \n",
       "\n",
       "[848 rows x 6 columns]"
      ]
     },
     "execution_count": 25,
     "metadata": {},
     "output_type": "execute_result"
    }
   ],
   "source": [
    "df.isnull()"
   ]
  },
  {
   "cell_type": "markdown",
   "metadata": {},
   "source": [
    "### returns the number of missing values in the dataset"
   ]
  },
  {
   "cell_type": "code",
   "execution_count": 26,
   "metadata": {},
   "outputs": [
    {
     "data": {
      "text/plain": [
       "place                0\n",
       "population           0\n",
       "pct_under_18         0\n",
       "pct_between_18_64    0\n",
       "pct_over_64          0\n",
       "male_female_ratio    0\n",
       "dtype: int64"
      ]
     },
     "execution_count": 26,
     "metadata": {},
     "output_type": "execute_result"
    }
   ],
   "source": [
    "df.isnull().sum()"
   ]
  },
  {
   "cell_type": "markdown",
   "metadata": {},
   "source": [
    " Now , let's see the data types of these elements"
   ]
  },
  {
   "cell_type": "code",
   "execution_count": 6,
   "metadata": {},
   "outputs": [
    {
     "data": {
      "text/plain": [
       "place                 object\n",
       "population             int64\n",
       "pct_under_18         float64\n",
       "pct_between_18_64    float64\n",
       "pct_over_64          float64\n",
       "male_female_ratio    float64\n",
       "dtype: object"
      ]
     },
     "execution_count": 6,
     "metadata": {},
     "output_type": "execute_result"
    }
   ],
   "source": [
    "df.dtypes"
   ]
  },
  {
   "cell_type": "markdown",
   "metadata": {},
   "source": [
    "### Here in the data, population columns is in string format, so let us convert it into numeric(int) for easy operations"
   ]
  },
  {
   "cell_type": "code",
   "execution_count": 7,
   "metadata": {},
   "outputs": [],
   "source": [
    "# population convert string to int\n",
    "df['population']=df['population'].astype(int)"
   ]
  },
  {
   "cell_type": "code",
   "execution_count": 8,
   "metadata": {},
   "outputs": [
    {
     "data": {
      "text/plain": [
       "place                 object\n",
       "population             int32\n",
       "pct_under_18         float64\n",
       "pct_between_18_64    float64\n",
       "pct_over_64          float64\n",
       "male_female_ratio    float64\n",
       "dtype: object"
      ]
     },
     "execution_count": 8,
     "metadata": {},
     "output_type": "execute_result"
    }
   ],
   "source": [
    "df.dtypes"
   ]
  },
  {
   "cell_type": "markdown",
   "metadata": {},
   "source": [
    "Now let us see all the correlations between all the variables "
   ]
  },
  {
   "cell_type": "code",
   "execution_count": 9,
   "metadata": {},
   "outputs": [
    {
     "data": {
      "text/html": [
       "<div>\n",
       "<style scoped>\n",
       "    .dataframe tbody tr th:only-of-type {\n",
       "        vertical-align: middle;\n",
       "    }\n",
       "\n",
       "    .dataframe tbody tr th {\n",
       "        vertical-align: top;\n",
       "    }\n",
       "\n",
       "    .dataframe thead th {\n",
       "        text-align: right;\n",
       "    }\n",
       "</style>\n",
       "<table border=\"1\" class=\"dataframe\">\n",
       "  <thead>\n",
       "    <tr style=\"text-align: right;\">\n",
       "      <th></th>\n",
       "      <th>population</th>\n",
       "      <th>pct_under_18</th>\n",
       "      <th>pct_between_18_64</th>\n",
       "      <th>pct_over_64</th>\n",
       "      <th>male_female_ratio</th>\n",
       "    </tr>\n",
       "  </thead>\n",
       "  <tbody>\n",
       "    <tr>\n",
       "      <th>population</th>\n",
       "      <td>1.000000</td>\n",
       "      <td>-0.033270</td>\n",
       "      <td>0.104318</td>\n",
       "      <td>-0.060598</td>\n",
       "      <td>-0.002159</td>\n",
       "    </tr>\n",
       "    <tr>\n",
       "      <th>pct_under_18</th>\n",
       "      <td>-0.033270</td>\n",
       "      <td>1.000000</td>\n",
       "      <td>-0.358603</td>\n",
       "      <td>-0.583055</td>\n",
       "      <td>0.021100</td>\n",
       "    </tr>\n",
       "    <tr>\n",
       "      <th>pct_between_18_64</th>\n",
       "      <td>0.104318</td>\n",
       "      <td>-0.358603</td>\n",
       "      <td>1.000000</td>\n",
       "      <td>-0.549288</td>\n",
       "      <td>0.278884</td>\n",
       "    </tr>\n",
       "    <tr>\n",
       "      <th>pct_over_64</th>\n",
       "      <td>-0.060598</td>\n",
       "      <td>-0.583055</td>\n",
       "      <td>-0.549288</td>\n",
       "      <td>1.000000</td>\n",
       "      <td>-0.261881</td>\n",
       "    </tr>\n",
       "    <tr>\n",
       "      <th>male_female_ratio</th>\n",
       "      <td>-0.002159</td>\n",
       "      <td>0.021100</td>\n",
       "      <td>0.278884</td>\n",
       "      <td>-0.261881</td>\n",
       "      <td>1.000000</td>\n",
       "    </tr>\n",
       "  </tbody>\n",
       "</table>\n",
       "</div>"
      ],
      "text/plain": [
       "                   population  pct_under_18  pct_between_18_64  pct_over_64  \\\n",
       "population           1.000000     -0.033270           0.104318    -0.060598   \n",
       "pct_under_18        -0.033270      1.000000          -0.358603    -0.583055   \n",
       "pct_between_18_64    0.104318     -0.358603           1.000000    -0.549288   \n",
       "pct_over_64         -0.060598     -0.583055          -0.549288     1.000000   \n",
       "male_female_ratio   -0.002159      0.021100           0.278884    -0.261881   \n",
       "\n",
       "                   male_female_ratio  \n",
       "population                 -0.002159  \n",
       "pct_under_18                0.021100  \n",
       "pct_between_18_64           0.278884  \n",
       "pct_over_64                -0.261881  \n",
       "male_female_ratio           1.000000  "
      ]
     },
     "execution_count": 9,
     "metadata": {},
     "output_type": "execute_result"
    }
   ],
   "source": [
    "# corr() is used to find the pirwise correlation of all columns in the dataframe.\n",
    "df.corr()"
   ]
  },
  {
   "cell_type": "markdown",
   "metadata": {},
   "source": [
    "### One must notice that there is not any <em> Linear relation </em> between our variables of interest , 'pct_over_64' & 'population'"
   ]
  },
  {
   "cell_type": "code",
   "execution_count": 10,
   "metadata": {},
   "outputs": [],
   "source": [
    "x=df['pct_over_64']\n",
    "y=df['population']"
   ]
  },
  {
   "cell_type": "code",
   "execution_count": 11,
   "metadata": {},
   "outputs": [
    {
     "data": {
      "image/png": "[encoded data removed]",
      "text/plain": [
       "<Figure size 432x288 with 1 Axes>"
      ]
     },
     "metadata": {
      "needs_background": "light"
     },
     "output_type": "display_data"
    }
   ],
   "source": [
    "plt.scatter(x,y,label='Stars',color='green',marker='*',s=50)\n",
    "plt.xlabel('pct_over_64')\n",
    "plt.ylabel('population')\n",
    "plt.title('percentage over 64 versus popn') \n",
    "plt.legend()\n",
    "plt.show()"
   ]
  },
  {
   "cell_type": "markdown",
   "metadata": {},
   "source": [
    "Here it is clearly visible that most of the big cities have about 5%-15% of peoples above 64 . So , we can yes this graph is informative and helpful in finding a small relation.\n",
    "\n",
    "From this plot we can also conclude that four cities have bulk population than others , cities are as Los Angeles city ,San Diego city, San Jose city and San Francisco city."
   ]
  },
  {
   "cell_type": "markdown",
   "metadata": {},
   "source": [
    "# Regression on log of population and percent over 64 variable"
   ]
  },
  {
   "cell_type": "code",
   "execution_count": 12,
   "metadata": {},
   "outputs": [
    {
     "data": {
      "text/plain": [
       "<matplotlib.collections.PathCollection at 0x208b96b0ac0>"
      ]
     },
     "execution_count": 12,
     "metadata": {},
     "output_type": "execute_result"
    },
    {
     "data": {
      "image/png": "[encoded data removed]",
      "text/plain": [
       "<Figure size 432x288 with 1 Axes>"
      ]
     },
     "metadata": {
      "needs_background": "light"
     },
     "output_type": "display_data"
    }
   ],
   "source": [
    "import math\n",
    "import seaborn as sns\n",
    "from scipy.stats import norm\n",
    "plt.scatter(df['pct_over_64'], np.log(df['population']))"
   ]
  },
  {
   "cell_type": "markdown",
   "metadata": {},
   "source": [
    "# Normal probability plot of remaining variables"
   ]
  },
  {
   "cell_type": "code",
   "execution_count": 13,
   "metadata": {},
   "outputs": [
    {
     "data": {
      "text/plain": [
       "<function matplotlib.pyplot.figure(num=None, figsize=None, dpi=None, facecolor=None, edgecolor=None, frameon=True, FigureClass=<class 'matplotlib.figure.Figure'>, clear=False, **kwargs)>"
      ]
     },
     "execution_count": 13,
     "metadata": {},
     "output_type": "execute_result"
    },
    {
     "data": {
      "image/png": "[encoded data removed]",
      "text/plain": [
       "<Figure size 432x288 with 1 Axes>"
      ]
     },
     "metadata": {
      "needs_background": "light"
     },
     "output_type": "display_data"
    }
   ],
   "source": [
    "from scipy import stats\n",
    "import scipy as scipy\n",
    "stats.probplot(df['pct_over_64'],plot=plt)\n",
    "plt.figure"
   ]
  },
  {
   "cell_type": "markdown",
   "metadata": {},
   "source": [
    "### his plot is saying that max peoples above age 64 belong to 5%-15% or we can also say it is also right skewed"
   ]
  },
  {
   "cell_type": "code",
   "execution_count": 14,
   "metadata": {},
   "outputs": [
    {
     "data": {
      "text/plain": [
       "<function matplotlib.pyplot.figure(num=None, figsize=None, dpi=None, facecolor=None, edgecolor=None, frameon=True, FigureClass=<class 'matplotlib.figure.Figure'>, clear=False, **kwargs)>"
      ]
     },
     "execution_count": 14,
     "metadata": {},
     "output_type": "execute_result"
    },
    {
     "data": {
      "image/png": "[encoded data removed]",
      "text/plain": [
       "<Figure size 432x288 with 1 Axes>"
      ]
     },
     "metadata": {
      "needs_background": "light"
     },
     "output_type": "display_data"
    }
   ],
   "source": [
    "stats.probplot(df['pct_under_18'],plot=plt)\n",
    "plt.figure"
   ]
  },
  {
   "cell_type": "markdown",
   "metadata": {},
   "source": [
    "***From this plot we can say that percentage of age under 18 is linear , that means max cities have same percetage distribution among them of under age 18 peoples***"
   ]
  },
  {
   "cell_type": "code",
   "execution_count": 15,
   "metadata": {},
   "outputs": [
    {
     "data": {
      "text/plain": [
       "<function matplotlib.pyplot.figure(num=None, figsize=None, dpi=None, facecolor=None, edgecolor=None, frameon=True, FigureClass=<class 'matplotlib.figure.Figure'>, clear=False, **kwargs)>"
      ]
     },
     "execution_count": 15,
     "metadata": {},
     "output_type": "execute_result"
    },
    {
     "data": {
      "image/png": "[encoded data removed]",
      "text/plain": [
       "<Figure size 432x288 with 1 Axes>"
      ]
     },
     "metadata": {
      "needs_background": "light"
     },
     "output_type": "display_data"
    }
   ],
   "source": [
    "stats.probplot(df['pct_between_18_64'],plot=plt)\n",
    "plt.figure"
   ]
  },
  {
   "cell_type": "markdown",
   "metadata": {},
   "source": [
    "*** From this plot it is clear that the population of this category of peoples are skewed on both side ***"
   ]
  },
  {
   "cell_type": "code",
   "execution_count": 16,
   "metadata": {
    "scrolled": true
   },
   "outputs": [
    {
     "data": {
      "text/plain": [
       "<matplotlib.collections.PathCollection at 0x208b7406a00>"
      ]
     },
     "execution_count": 16,
     "metadata": {},
     "output_type": "execute_result"
    },
    {
     "data": {
      "image/png": "[encoded data removed]",
      "text/plain": [
       "<Figure size 432x288 with 1 Axes>"
      ]
     },
     "metadata": {
      "needs_background": "light"
     },
     "output_type": "display_data"
    }
   ],
   "source": [
    "plt.scatter(np.log(df['pct_over_64']), np.log(df['population']))"
   ]
  },
  {
   "cell_type": "markdown",
   "metadata": {},
   "source": [
    "## Outliers using boxplot"
   ]
  },
  {
   "cell_type": "code",
   "execution_count": 23,
   "metadata": {},
   "outputs": [
    {
     "name": "stderr",
     "output_type": "stream",
     "text": [
      "C:\\Users\\Shivani Balyan\\anaconda3\\lib\\site-packages\\seaborn\\_decorators.py:36: FutureWarning: Pass the following variable as a keyword arg: x. From version 0.12, the only valid positional argument will be `data`, and passing other arguments without an explicit keyword will result in an error or misinterpretation.\n",
      "  warnings.warn(\n"
     ]
    },
    {
     "data": {
      "text/plain": [
       "<AxesSubplot:xlabel='pct_over_64'>"
      ]
     },
     "execution_count": 23,
     "metadata": {},
     "output_type": "execute_result"
    },
    {
     "data": {
      "image/png": "[encoded data removed]",
      "text/plain": [
       "<Figure size 432x288 with 1 Axes>"
      ]
     },
     "metadata": {
      "needs_background": "light"
     },
     "output_type": "display_data"
    }
   ],
   "source": [
    "sns.boxplot(df['pct_over_64'])"
   ]
  },
  {
   "cell_type": "code",
   "execution_count": 20,
   "metadata": {},
   "outputs": [
    {
     "name": "stderr",
     "output_type": "stream",
     "text": [
      "C:\\Users\\Shivani Balyan\\anaconda3\\lib\\site-packages\\seaborn\\_decorators.py:36: FutureWarning: Pass the following variable as a keyword arg: x. From version 0.12, the only valid positional argument will be `data`, and passing other arguments without an explicit keyword will result in an error or misinterpretation.\n",
      "  warnings.warn(\n"
     ]
    },
    {
     "data": {
      "text/plain": [
       "<AxesSubplot:xlabel='pct_between_18_64'>"
      ]
     },
     "execution_count": 20,
     "metadata": {},
     "output_type": "execute_result"
    },
    {
     "data": {
      "image/png": "[encoded data removed]",
      "text/plain": [
       "<Figure size 432x288 with 1 Axes>"
      ]
     },
     "metadata": {
      "needs_background": "light"
     },
     "output_type": "display_data"
    }
   ],
   "source": [
    "sns.boxplot(df['pct_between_18_64'])"
   ]
  },
  {
   "cell_type": "code",
   "execution_count": 21,
   "metadata": {},
   "outputs": [
    {
     "name": "stderr",
     "output_type": "stream",
     "text": [
      "C:\\Users\\Shivani Balyan\\anaconda3\\lib\\site-packages\\seaborn\\_decorators.py:36: FutureWarning: Pass the following variable as a keyword arg: x. From version 0.12, the only valid positional argument will be `data`, and passing other arguments without an explicit keyword will result in an error or misinterpretation.\n",
      "  warnings.warn(\n"
     ]
    },
    {
     "data": {
      "text/plain": [
       "<AxesSubplot:xlabel='pct_under_18'>"
      ]
     },
     "execution_count": 21,
     "metadata": {},
     "output_type": "execute_result"
    },
    {
     "data": {
      "image/png": "[encoded data removed]",
      "text/plain": [
       "<Figure size 432x288 with 1 Axes>"
      ]
     },
     "metadata": {
      "needs_background": "light"
     },
     "output_type": "display_data"
    }
   ],
   "source": [
    "sns.boxplot(df['pct_under_18'])"
   ]
  },
  {
   "cell_type": "markdown",
   "metadata": {},
   "source": [
    "##### Isn't this amazing ? As you can see how easily ln has changed our perception over residual vs fit plot . Now the plot is easy to read and make conclusions."
   ]
  },
  {
   "cell_type": "markdown",
   "metadata": {},
   "source": [
    "#  Final Conclusions ::"
   ]
  },
  {
   "cell_type": "markdown",
   "metadata": {},
   "source": [
    "## Maximun cities have around 5%-15% people of above age 64 , but in small cities population of peoples above age 64 is higher. \n"
   ]
  }
 ],
 "metadata": {
  "kernelspec": {
   "display_name": "Python 3",
   "language": "python",
   "name": "python3"
  },
  "language_info": {
   "codemirror_mode": {
    "name": "ipython",
    "version": 3
   },
   "file_extension": ".py",
   "mimetype": "text/x-python",
   "name": "python",
   "nbconvert_exporter": "python",
   "pygments_lexer": "ipython3",
   "version": "3.8.5"
  }
 },
 "nbformat": 4,
 "nbformat_minor": 4
}
